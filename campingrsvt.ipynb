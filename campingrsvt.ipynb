{
  "nbformat": 4,
  "nbformat_minor": 0,
  "metadata": {
    "colab": {
      "provenance": [],
      "authorship_tag": "ABX9TyMty/e1Cp4lbOE8lta8qHNS",
      "include_colab_link": true
    },
    "kernelspec": {
      "name": "python3",
      "display_name": "Python 3"
    },
    "language_info": {
      "name": "python"
    }
  },
  "cells": [
    {
      "cell_type": "markdown",
      "metadata": {
        "id": "view-in-github",
        "colab_type": "text"
      },
      "source": [
        "<a href=\"https://colab.research.google.com/github/mybuenoday/gpt/blob/main/campingrsvt.ipynb\" target=\"_parent\"><img src=\"https://colab.research.google.com/assets/colab-badge.svg\" alt=\"Open In Colab\"/></a>"
      ]
    },
    {
      "cell_type": "code",
      "execution_count": null,
      "metadata": {
        "colab": {
          "base_uri": "https://localhost:8080/"
        },
        "id": "CoTZfIiUvaVS",
        "outputId": "27215e01-f26a-4e82-f6d8-fac163a5a639"
      },
      "outputs": [
        {
          "output_type": "stream",
          "name": "stdout",
          "text": [
            "예약할 캠핑장의 이름을 입력하세요: Bastrop\n",
            "시작 날짜를 입력하세요 (YYYY-MM-DD 형식): 2020-03-05\n",
            "종료 날짜를 입력하세요 (YYYY-MM-DD 형식): 2020-03-07\n",
            "인원을 입력하세요 (n 형식): 6\n",
            "6명 2020-03-05부터 2020-03-07까지 예약되었습니다.\n",
            "캠핑장 예약이 완료되었습니다.\n",
            "캠핑 장비를 선택하시겠습니까? (y/n): y\n",
            "의자 선택 (y/n 형식): y\n",
            "숯 선택 (y/n 형식): y\n",
            "캠핑 장비 선택이 완료되었습니다.\n"
          ]
        }
      ],
      "source": [
        "# 캠핑 예약 및 장비 선택 프로그램\n",
        "\n",
        "def reserve_campsite(campsite_name, start_date, end_date):\n",
        "    # 캠핑장 예약을 처리하는 함수입니다.\n",
        "    # 이 함수는 실제로는 구현되어 있지 않기 때문에 예시로 None을 반환합니다. -> 구현 후 True 반환으로 변경\n",
        "    people = input(\"인원을 입력하세요 (n 형식): \")\n",
        "    print(f\"{people}명 {start_date}부터 {end_date}까지 예약되었습니다.\")\n",
        "    return True\n",
        "\n",
        "def select_equipment(campsite_name, start_date, end_date):\n",
        "    # 캠핑 장비 선택을 처리하는 함수입니다.\n",
        "    # 이 함수는 실제로는 구현되어 있지 않기 때문에 예시로 None을 반환합니다. -> 구현 후 True 반환으로 변경\n",
        "    use_chair = input(\"의자 선택 (y/n 형식): \")\n",
        "    charcoal = input(\"숯 선택 (y/n 형식): \")\n",
        "    return True\n",
        "\n",
        "def main():\n",
        "    # 사용자로부터 예약 정보를 입력받습니다.\n",
        "    campsite_name = input(\"예약할 캠핑장의 이름을 입력하세요: \")\n",
        "    start_date = input(\"시작 날짜를 입력하세요 (YYYY-MM-DD 형식): \")\n",
        "    end_date = input(\"종료 날짜를 입력하세요 (YYYY-MM-DD 형식): \")\n",
        "\n",
        "    # 예약을 처리하고 결과를 출력합니다.\n",
        "    reservation_result = reserve_campsite(campsite_name, start_date, end_date)\n",
        "    if reservation_result:\n",
        "        print(\"캠핑장 예약이 완료되었습니다.\")\n",
        "    else:\n",
        "        print(\"캠핑장 예약에 실패했습니다.\")\n",
        "\n",
        "    # 사용자로부터 캠핑 장비 선택 여부를 묻습니다.\n",
        "    answer = input(\"캠핑 장비를 선택하시겠습니까? (y/n): \")\n",
        "    if answer.lower() == \"y\":\n",
        "        # 캠핑 장비 선택을 처리하고 결과를 출력합니다.\n",
        "        equipment_result = select_equipment(campsite_name, start_date, end_date)\n",
        "        if equipment_result:\n",
        "            print(\"캠핑 장비 선택이 완료되었습니다.\")\n",
        "        else:\n",
        "            print(\"캠핑 장비 선택에 실패했습니다.\")\n",
        "    else:\n",
        "        print(\"캠핑 장비 선택을 하지 않았습니다.\")\n",
        "\n",
        "if __name__ == \"__main__\":\n",
        "    main()"
      ]
    }
  ]
}